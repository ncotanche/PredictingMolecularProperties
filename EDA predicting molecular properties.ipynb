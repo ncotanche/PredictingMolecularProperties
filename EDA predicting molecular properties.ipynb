{
 "cells": [
  {
   "cell_type": "code",
   "execution_count": 16,
   "metadata": {},
   "outputs": [],
   "source": [
    "# setup\n",
    "import pandas as pd\n",
    "import numpy as np\n",
    "import matplotlib.pyplot as plt\n",
    "%matplotlib inline"
   ]
  },
  {
   "cell_type": "code",
   "execution_count": 17,
   "metadata": {},
   "outputs": [],
   "source": [
    "# github lfs\n",
    "url_dipole_moments = 'https://raw.githubusercontent.com/ncotanche/PredictingMolecularProperties/master/Raw%20Data/dipole_moments.csv'\n",
    "# github lfs\n",
    "url_magnetic_shielding_tensors = 'https://raw.githubusercontent.com/ncotanche/PredictingMolecularProperties/master/Raw%20Data/magnetic_shielding_tensors.csv'\n",
    "# github lfs\n",
    "url_mulliken_charges = 'https://raw.githubusercontent.com/ncotanche/PredictingMolecularProperties/master/Raw%20Data/mulliken_charges.csv'\n",
    "# github lfs\n",
    "url_potential_energy  = 'https://raw.githubusercontent.com/ncotanche/PredictingMolecularProperties/master/Raw%20Data/potential_energy.csv'\n",
    "# github lfs\n",
    "url_scalar_coupling_contributions = 'https://raw.githubusercontent.com/ncotanche/PredictingMolecularProperties/master/Raw%20Data/scalar_coupling_contributions.csv'\n",
    "# github lfs\n",
    "url_structures = 'https://raw.githubusercontent.com/ncotanche/PredictingMolecularProperties/master/Raw%20Data/structures.csv'\n",
    "\n",
    "# need to figure out how to load directly from lfs in github\n",
    "df_dipole_moments = pd.read_csv(url_dipole_moments,delimiter='\\s+',header=None)\n",
    "df_magnetic_shielding_tensors = pd.read_csv(url_magnetic_shielding_tensors,delimiter='\\s+',header=None)\n",
    "df_mulliken_charges = pd.read_csv(url_mulliken_charges)\n",
    "df_potential_energy = pd.read_csv(url_potential_energy)\n",
    "df_scalar_coupling_contributions = pd.read_csv(url_scalar_coupling_contributions)\n",
    "df_structures = pd.read_csv(url_structures)"
   ]
  },
  {
   "cell_type": "markdown",
   "metadata": {},
   "source": [
    "All the files I want to analyze are stored on GitHub lfs. The urls to my GitHub are just pointers for the actuall data. So I need to find the lfs urls for the actual data. "
   ]
  },
  {
   "cell_type": "code",
   "execution_count": 14,
   "metadata": {},
   "outputs": [
    {
     "data": {
      "text/html": [
       "<div>\n",
       "<style scoped>\n",
       "    .dataframe tbody tr th:only-of-type {\n",
       "        vertical-align: middle;\n",
       "    }\n",
       "\n",
       "    .dataframe tbody tr th {\n",
       "        vertical-align: top;\n",
       "    }\n",
       "\n",
       "    .dataframe thead th {\n",
       "        text-align: right;\n",
       "    }\n",
       "</style>\n",
       "<table border=\"1\" class=\"dataframe\">\n",
       "  <thead>\n",
       "    <tr style=\"text-align: right;\">\n",
       "      <th></th>\n",
       "      <th>0</th>\n",
       "      <th>1</th>\n",
       "    </tr>\n",
       "  </thead>\n",
       "  <tbody>\n",
       "    <tr>\n",
       "      <th>0</th>\n",
       "      <td>version</td>\n",
       "      <td>https://git-lfs.github.com/spec/v1</td>\n",
       "    </tr>\n",
       "    <tr>\n",
       "      <th>1</th>\n",
       "      <td>oid</td>\n",
       "      <td>sha256:527b5fedd501ab791eab687da5e2259f8002ee2...</td>\n",
       "    </tr>\n",
       "    <tr>\n",
       "      <th>2</th>\n",
       "      <td>size</td>\n",
       "      <td>3295704</td>\n",
       "    </tr>\n",
       "  </tbody>\n",
       "</table>\n",
       "</div>"
      ],
      "text/plain": [
       "         0                                                  1\n",
       "0  version                 https://git-lfs.github.com/spec/v1\n",
       "1      oid  sha256:527b5fedd501ab791eab687da5e2259f8002ee2...\n",
       "2     size                                            3295704"
      ]
     },
     "execution_count": 14,
     "metadata": {},
     "output_type": "execute_result"
    }
   ],
   "source": [
    "df_dipole_moments"
   ]
  },
  {
   "cell_type": "code",
   "execution_count": 15,
   "metadata": {},
   "outputs": [
    {
     "data": {
      "text/html": [
       "<div>\n",
       "<style scoped>\n",
       "    .dataframe tbody tr th:only-of-type {\n",
       "        vertical-align: middle;\n",
       "    }\n",
       "\n",
       "    .dataframe tbody tr th {\n",
       "        vertical-align: top;\n",
       "    }\n",
       "\n",
       "    .dataframe thead th {\n",
       "        text-align: right;\n",
       "    }\n",
       "</style>\n",
       "<table border=\"1\" class=\"dataframe\">\n",
       "  <thead>\n",
       "    <tr style=\"text-align: right;\">\n",
       "      <th></th>\n",
       "      <th>0</th>\n",
       "      <th>1</th>\n",
       "    </tr>\n",
       "  </thead>\n",
       "  <tbody>\n",
       "    <tr>\n",
       "      <th>0</th>\n",
       "      <td>version</td>\n",
       "      <td>https://git-lfs.github.com/spec/v1</td>\n",
       "    </tr>\n",
       "    <tr>\n",
       "      <th>1</th>\n",
       "      <td>oid</td>\n",
       "      <td>sha256:ba13d29dc7cf5b88c6d9456b373041ce5975d51...</td>\n",
       "    </tr>\n",
       "    <tr>\n",
       "      <th>2</th>\n",
       "      <td>size</td>\n",
       "      <td>136330425</td>\n",
       "    </tr>\n",
       "  </tbody>\n",
       "</table>\n",
       "</div>"
      ],
      "text/plain": [
       "         0                                                  1\n",
       "0  version                 https://git-lfs.github.com/spec/v1\n",
       "1      oid  sha256:ba13d29dc7cf5b88c6d9456b373041ce5975d51...\n",
       "2     size                                          136330425"
      ]
     },
     "execution_count": 15,
     "metadata": {},
     "output_type": "execute_result"
    }
   ],
   "source": [
    "df_magnetic_shielding_tensors"
   ]
  },
  {
   "cell_type": "code",
   "execution_count": null,
   "metadata": {},
   "outputs": [],
   "source": []
  }
 ],
 "metadata": {
  "kernelspec": {
   "display_name": "Python 3",
   "language": "python",
   "name": "python3"
  },
  "language_info": {
   "codemirror_mode": {
    "name": "ipython",
    "version": 3
   },
   "file_extension": ".py",
   "mimetype": "text/x-python",
   "name": "python",
   "nbconvert_exporter": "python",
   "pygments_lexer": "ipython3",
   "version": "3.7.1"
  }
 },
 "nbformat": 4,
 "nbformat_minor": 2
}
